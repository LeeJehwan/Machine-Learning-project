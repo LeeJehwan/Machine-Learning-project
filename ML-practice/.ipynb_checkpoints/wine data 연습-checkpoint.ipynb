{
 "cells": [
  {
   "cell_type": "code",
   "execution_count": 1,
   "metadata": {},
   "outputs": [],
   "source": [
    "from __future__ import print_function\n",
    "import os\n",
    "# Type Path\n",
    "data_path = [r'C:\\Users\\wpghk\\ai_data']\n",
    "\n",
    "import pandas as pd\n",
    "import numpy as np\n",
    "\n",
    "filepath = os.sep.join(data_path + ['Wine_Quality_Data.csv'])\n",
    "data = pd.read_csv(filepath, sep=',')"
   ]
  },
  {
   "cell_type": "code",
   "execution_count": 2,
   "metadata": {},
   "outputs": [
    {
     "name": "stderr",
     "output_type": "stream",
     "text": [
      "C:\\Users\\wpghk\\Anaconda3\\lib\\site-packages\\sklearn\\ensemble\\weight_boosting.py:29: DeprecationWarning: numpy.core.umath_tests is an internal NumPy module and should not be imported. It will be removed in a future NumPy release.\n",
      "  from numpy.core.umath_tests import inner1d\n"
     ]
    }
   ],
   "source": [
    "import warnings\n",
    "warnings.filterwarnings(\"ignore\", category=DeprecationWarning) \n",
    "warnings.filterwarnings(\"ignore\", category=UserWarning)\n",
    "warnings.filterwarnings(\"ignore\", category=RuntimeWarning)\n",
    "warnings.filterwarnings('ignore', module='sklearn')\n",
    "\n",
    "from sklearn.preprocessing import MinMaxScaler, LabelBinarizer, LabelEncoder\n",
    "from sklearn.model_selection import train_test_split, StratifiedShuffleSplit\n",
    "from sklearn.preprocessing import StandardScaler\n",
    "from sklearn.model_selection import cross_val_score, cross_val_predict\n",
    "from sklearn.metrics import confusion_matrix, classification_report, accuracy_score\n",
    "from sklearn.neighbors import KNeighborsClassifier\n",
    "from sklearn.svm import SVC\n",
    "from sklearn.ensemble import RandomForestClassifier\n",
    "from sklearn.linear_model import LogisticRegression\n",
    "from sklearn.naive_bayes import GaussianNB, BernoulliNB, MultinomialNB\n",
    "from sklearn.tree import DecisionTreeClassifier \n",
    "\n",
    "import matplotlib.pyplot as plt\n",
    "%matplotlib inline"
   ]
  },
  {
   "cell_type": "code",
   "execution_count": 3,
   "metadata": {},
   "outputs": [],
   "source": [
    "data['color'] = data.color.replace('white',0).replace('red',1).astype(np.int)"
   ]
  },
  {
   "cell_type": "code",
   "execution_count": 4,
   "metadata": {},
   "outputs": [],
   "source": [
    "target = 'color'\n",
    "feature_cols = [x for x in data.columns if x != target]\n",
    "\n",
    "# Split the data into two parts with 1500 points in the test data\n",
    "# This creates a generator\n",
    "strat_shuff_split = StratifiedShuffleSplit(n_splits=1, test_size=1500, random_state=42)\n",
    "\n",
    "# Get the index values from the generator\n",
    "train_idx, test_idx = next(strat_shuff_split.split(data[feature_cols], data[target]))\n",
    "\n",
    "# Create the data sets\n",
    "X_train = data.loc[train_idx, feature_cols]\n",
    "y_train = data.loc[train_idx, target]\n",
    "\n",
    "X_test = data.loc[test_idx, feature_cols]\n",
    "y_test = data.loc[test_idx, target]"
   ]
  },
  {
   "cell_type": "code",
   "execution_count": 5,
   "metadata": {},
   "outputs": [],
   "source": [
    "#scaler = MinMaxScaler()\n",
    "#X_train = scaler.fit_transform(X_train)\n",
    "#X_test = scaler.fit_transform(X_test)"
   ]
  },
  {
   "cell_type": "code",
   "execution_count": 6,
   "metadata": {},
   "outputs": [],
   "source": [
    "def print_score(classifier, X_train, y_train, X_test, y_test, train = True):\n",
    "    if train == True:\n",
    "        y_pred = classifier.predict(X_train)\n",
    "        print(\"Training result:\\n\")\n",
    "        print(\"Accuracy Score: {0:.4f}\\n\".format(accuracy_score(y_train, y_pred)))\n",
    "        print(\"Classification Report:\\n{}\\n\".format(classification_report(y_train, y_pred)))\n",
    "        print(\"Confusion Matrix:\\n{}\\n\".format(confusion_matrix(y_train, y_pred)))\n",
    "        res = cross_val_score(classifier, X_train, y_train, cv = 10, n_jobs= -1, scoring =\"accuracy\")\n",
    "        print(\"Average Accuracy:\\t{0:.4f}\\n\".format(res.mean()))\n",
    "        print(\"Standard Deviation:\\t{0:.4f}\".format(res.std()))\n",
    "    elif train == False:\n",
    "        y_pred = classifier.predict(X_test)\n",
    "        print(\"Test result:\\n\")\n",
    "        print(\"Accuracy Score: {0:.4f}\\n\".format(accuracy_score(y_test, y_pred)))\n",
    "        print(\"Classification Report:\\n{}\\n\".format(classification_report(y_test, y_pred)))\n",
    "        print(\"Confusion Matrix:\\n{}\\n\".format(confusion_matrix(y_test, y_pred)))"
   ]
  },
  {
   "cell_type": "markdown",
   "metadata": {},
   "source": [
    "Model\n",
    "\n",
    "    Random Forest Classifier(NOT SCALE)\n",
    "    KNeighbors Classifier\n",
    "    Naive Bayes\n",
    "    Logistic Regression\n",
    "    Decision Tree Classifier\n",
    "    \n",
    "    Support Vector Classifier(MUST SCALE)\n",
    "   "
   ]
  },
  {
   "cell_type": "code",
   "execution_count": 7,
   "metadata": {},
   "outputs": [
    {
     "data": {
      "text/plain": [
       "DecisionTreeClassifier(class_weight=None, criterion='gini', max_depth=11,\n",
       "            max_features=None, max_leaf_nodes=None,\n",
       "            min_impurity_decrease=0.0, min_impurity_split=None,\n",
       "            min_samples_leaf=1, min_samples_split=2,\n",
       "            min_weight_fraction_leaf=0.0, presort=False, random_state=42,\n",
       "            splitter='best')"
      ]
     },
     "execution_count": 7,
     "metadata": {},
     "output_type": "execute_result"
    }
   ],
   "source": [
    "random_forest = RandomForestClassifier(n_estimators = 50, criterion='entropy',random_state = 42)\n",
    "random_forest.fit(X_train, y_train)\n",
    "\n",
    "knn = KNeighborsClassifier(n_neighbors = 3)\n",
    "knn.fit(X_train, y_train)\n",
    "\n",
    "gnb = GaussianNB()\n",
    "gnb.fit(X_train, y_train)\n",
    "bnb = BernoulliNB()\n",
    "bnb.fit(X_train, y_train)\n",
    "mnb = MultinomialNB()\n",
    "mnb.fit(X_train, y_train)\n",
    "\n",
    "logreg = LogisticRegression()\n",
    "logreg.fit(X_train, y_train)\n",
    "\n",
    "dt = DecisionTreeClassifier(max_depth = 11, random_state = 42)\n",
    "dt.fit(X_train, y_train)"
   ]
  },
  {
   "cell_type": "code",
   "execution_count": 8,
   "metadata": {},
   "outputs": [
    {
     "name": "stdout",
     "output_type": "stream",
     "text": [
      "Training result:\n",
      "\n",
      "Accuracy Score: 0.9996\n",
      "\n",
      "Classification Report:\n",
      "             precision    recall  f1-score   support\n",
      "\n",
      "          0       1.00      1.00      1.00      3767\n",
      "          1       1.00      1.00      1.00      1230\n",
      "\n",
      "avg / total       1.00      1.00      1.00      4997\n",
      "\n",
      "\n",
      "Confusion Matrix:\n",
      "[[3766    1]\n",
      " [   1 1229]]\n",
      "\n",
      "Average Accuracy:\t0.9946\n",
      "\n",
      "Standard Deviation:\t0.0041\n",
      "Test result:\n",
      "\n",
      "Accuracy Score: 0.9980\n",
      "\n",
      "Classification Report:\n",
      "             precision    recall  f1-score   support\n",
      "\n",
      "          0       1.00      1.00      1.00      1131\n",
      "          1       1.00      0.99      1.00       369\n",
      "\n",
      "avg / total       1.00      1.00      1.00      1500\n",
      "\n",
      "\n",
      "Confusion Matrix:\n",
      "[[1131    0]\n",
      " [   3  366]]\n",
      "\n"
     ]
    }
   ],
   "source": [
    "print_score(random_forest ,X_train,y_train,X_test,y_test, train = True)\n",
    "print_score(random_forest ,X_train,y_train,X_test,y_test, train = False)"
   ]
  },
  {
   "cell_type": "code",
   "execution_count": 9,
   "metadata": {},
   "outputs": [
    {
     "name": "stdout",
     "output_type": "stream",
     "text": [
      "Training result:\n",
      "\n",
      "Accuracy Score: 0.9706\n",
      "\n",
      "Classification Report:\n",
      "             precision    recall  f1-score   support\n",
      "\n",
      "          0       0.98      0.98      0.98      3767\n",
      "          1       0.95      0.93      0.94      1230\n",
      "\n",
      "avg / total       0.97      0.97      0.97      4997\n",
      "\n",
      "\n",
      "Confusion Matrix:\n",
      "[[3705   62]\n",
      " [  85 1145]]\n",
      "\n",
      "Average Accuracy:\t0.9372\n",
      "\n",
      "Standard Deviation:\t0.0084\n",
      "Test result:\n",
      "\n",
      "Accuracy Score: 0.9453\n",
      "\n",
      "Classification Report:\n",
      "             precision    recall  f1-score   support\n",
      "\n",
      "          0       0.96      0.97      0.96      1131\n",
      "          1       0.90      0.88      0.89       369\n",
      "\n",
      "avg / total       0.94      0.95      0.95      1500\n",
      "\n",
      "\n",
      "Confusion Matrix:\n",
      "[[1095   36]\n",
      " [  46  323]]\n",
      "\n"
     ]
    }
   ],
   "source": [
    "print_score(knn ,X_train,y_train,X_test,y_test, train = True)\n",
    "print_score(knn ,X_train,y_train,X_test,y_test, train = False)"
   ]
  },
  {
   "cell_type": "code",
   "execution_count": 10,
   "metadata": {},
   "outputs": [
    {
     "name": "stdout",
     "output_type": "stream",
     "text": [
      "Training result:\n",
      "\n",
      "Accuracy Score: 0.9710\n",
      "\n",
      "Classification Report:\n",
      "             precision    recall  f1-score   support\n",
      "\n",
      "          0       0.99      0.97      0.98      3767\n",
      "          1       0.92      0.97      0.94      1230\n",
      "\n",
      "avg / total       0.97      0.97      0.97      4997\n",
      "\n",
      "\n",
      "Confusion Matrix:\n",
      "[[3661  106]\n",
      " [  39 1191]]\n",
      "\n",
      "Average Accuracy:\t0.9704\n",
      "\n",
      "Standard Deviation:\t0.0057\n",
      "Test result:\n",
      "\n",
      "Accuracy Score: 0.9740\n",
      "\n",
      "Classification Report:\n",
      "             precision    recall  f1-score   support\n",
      "\n",
      "          0       0.99      0.98      0.98      1131\n",
      "          1       0.93      0.97      0.95       369\n",
      "\n",
      "avg / total       0.97      0.97      0.97      1500\n",
      "\n",
      "\n",
      "Confusion Matrix:\n",
      "[[1104   27]\n",
      " [  12  357]]\n",
      "\n",
      "Training result:\n",
      "\n",
      "Accuracy Score: 0.7717\n",
      "\n",
      "Classification Report:\n",
      "             precision    recall  f1-score   support\n",
      "\n",
      "          0       0.77      1.00      0.87      3767\n",
      "          1       0.87      0.09      0.16      1230\n",
      "\n",
      "avg / total       0.79      0.77      0.69      4997\n",
      "\n",
      "\n",
      "Confusion Matrix:\n",
      "[[3751   16]\n",
      " [1125  105]]\n",
      "\n",
      "Average Accuracy:\t0.7717\n",
      "\n",
      "Standard Deviation:\t0.0066\n",
      "Test result:\n",
      "\n",
      "Accuracy Score: 0.7700\n",
      "\n",
      "Classification Report:\n",
      "             precision    recall  f1-score   support\n",
      "\n",
      "          0       0.77      1.00      0.87      1131\n",
      "          1       0.90      0.07      0.14       369\n",
      "\n",
      "avg / total       0.80      0.77      0.69      1500\n",
      "\n",
      "\n",
      "Confusion Matrix:\n",
      "[[1128    3]\n",
      " [ 342   27]]\n",
      "\n",
      "Training result:\n",
      "\n",
      "Accuracy Score: 0.9216\n",
      "\n",
      "Classification Report:\n",
      "             precision    recall  f1-score   support\n",
      "\n",
      "          0       0.94      0.95      0.95      3767\n",
      "          1       0.85      0.83      0.84      1230\n",
      "\n",
      "avg / total       0.92      0.92      0.92      4997\n",
      "\n",
      "\n",
      "Confusion Matrix:\n",
      "[[3590  177]\n",
      " [ 215 1015]]\n",
      "\n",
      "Average Accuracy:\t0.9212\n",
      "\n",
      "Standard Deviation:\t0.0113\n",
      "Test result:\n",
      "\n",
      "Accuracy Score: 0.9240\n",
      "\n",
      "Classification Report:\n",
      "             precision    recall  f1-score   support\n",
      "\n",
      "          0       0.95      0.95      0.95      1131\n",
      "          1       0.84      0.86      0.85       369\n",
      "\n",
      "avg / total       0.92      0.92      0.92      1500\n",
      "\n",
      "\n",
      "Confusion Matrix:\n",
      "[[1069   62]\n",
      " [  52  317]]\n",
      "\n"
     ]
    }
   ],
   "source": [
    "print_score(gnb ,X_train,y_train,X_test,y_test, train = True)\n",
    "print_score(gnb ,X_train,y_train,X_test,y_test, train = False)\n",
    "print_score(bnb ,X_train,y_train,X_test,y_test, train = True)\n",
    "print_score(bnb ,X_train,y_train,X_test,y_test, train = False)\n",
    "print_score(mnb ,X_train,y_train,X_test,y_test, train = True)\n",
    "print_score(mnb ,X_train,y_train,X_test,y_test, train = False)"
   ]
  },
  {
   "cell_type": "code",
   "execution_count": 11,
   "metadata": {},
   "outputs": [
    {
     "name": "stdout",
     "output_type": "stream",
     "text": [
      "Training result:\n",
      "\n",
      "Accuracy Score: 0.9800\n",
      "\n",
      "Classification Report:\n",
      "             precision    recall  f1-score   support\n",
      "\n",
      "          0       0.98      0.99      0.99      3767\n",
      "          1       0.97      0.95      0.96      1230\n",
      "\n",
      "avg / total       0.98      0.98      0.98      4997\n",
      "\n",
      "\n",
      "Confusion Matrix:\n",
      "[[3729   38]\n",
      " [  62 1168]]\n",
      "\n",
      "Average Accuracy:\t0.9800\n",
      "\n",
      "Standard Deviation:\t0.0063\n",
      "Test result:\n",
      "\n",
      "Accuracy Score: 0.9867\n",
      "\n",
      "Classification Report:\n",
      "             precision    recall  f1-score   support\n",
      "\n",
      "          0       0.99      0.99      0.99      1131\n",
      "          1       0.98      0.97      0.97       369\n",
      "\n",
      "avg / total       0.99      0.99      0.99      1500\n",
      "\n",
      "\n",
      "Confusion Matrix:\n",
      "[[1123    8]\n",
      " [  12  357]]\n",
      "\n"
     ]
    }
   ],
   "source": [
    "print_score(logreg ,X_train,y_train,X_test,y_test, train = True)\n",
    "print_score(logreg ,X_train,y_train,X_test,y_test, train = False)"
   ]
  },
  {
   "cell_type": "code",
   "execution_count": 12,
   "metadata": {},
   "outputs": [
    {
     "name": "stdout",
     "output_type": "stream",
     "text": [
      "Training result:\n",
      "\n",
      "Accuracy Score: 0.9986\n",
      "\n",
      "Classification Report:\n",
      "             precision    recall  f1-score   support\n",
      "\n",
      "          0       1.00      1.00      1.00      3767\n",
      "          1       1.00      1.00      1.00      1230\n",
      "\n",
      "avg / total       1.00      1.00      1.00      4997\n",
      "\n",
      "\n",
      "Confusion Matrix:\n",
      "[[3766    1]\n",
      " [   6 1224]]\n",
      "\n",
      "Average Accuracy:\t0.9852\n",
      "\n",
      "Standard Deviation:\t0.0038\n",
      "Test result:\n",
      "\n",
      "Accuracy Score: 0.9887\n",
      "\n",
      "Classification Report:\n",
      "             precision    recall  f1-score   support\n",
      "\n",
      "          0       0.99      0.99      0.99      1131\n",
      "          1       0.98      0.98      0.98       369\n",
      "\n",
      "avg / total       0.99      0.99      0.99      1500\n",
      "\n",
      "\n",
      "Confusion Matrix:\n",
      "[[1123    8]\n",
      " [   9  360]]\n",
      "\n"
     ]
    },
    {
     "data": {
      "text/plain": [
       "(121, 11)"
      ]
     },
     "execution_count": 12,
     "metadata": {},
     "output_type": "execute_result"
    }
   ],
   "source": [
    "print_score(dt ,X_train,y_train,X_test,y_test, train = True)\n",
    "print_score(dt ,X_train,y_train,X_test,y_test, train = False)\n",
    "dt.tree_.node_count, dt.tree_.max_depth"
   ]
  },
  {
   "cell_type": "markdown",
   "metadata": {},
   "source": [
    "SVM model"
   ]
  },
  {
   "cell_type": "code",
   "execution_count": 13,
   "metadata": {},
   "outputs": [
    {
     "name": "stdout",
     "output_type": "stream",
     "text": [
      "Training result:\n",
      "\n",
      "Accuracy Score: 0.9878\n",
      "\n",
      "Classification Report:\n",
      "             precision    recall  f1-score   support\n",
      "\n",
      "          0       0.99      1.00      0.99      3767\n",
      "          1       0.99      0.96      0.97      1230\n",
      "\n",
      "avg / total       0.99      0.99      0.99      4997\n",
      "\n",
      "\n",
      "Confusion Matrix:\n",
      "[[3753   14]\n",
      " [  47 1183]]\n",
      "\n",
      "Average Accuracy:\t0.9874\n",
      "\n",
      "Standard Deviation:\t0.0051\n",
      "Test result:\n",
      "\n",
      "Accuracy Score: 0.9920\n",
      "\n",
      "Classification Report:\n",
      "             precision    recall  f1-score   support\n",
      "\n",
      "          0       1.00      0.99      0.99      1131\n",
      "          1       0.98      0.99      0.98       369\n",
      "\n",
      "avg / total       0.99      0.99      0.99      1500\n",
      "\n",
      "\n",
      "Confusion Matrix:\n",
      "[[1122    9]\n",
      " [   3  366]]\n",
      "\n"
     ]
    }
   ],
   "source": [
    "scaler = MinMaxScaler()\n",
    "X_train = scaler.fit_transform(X_train)\n",
    "X_test = scaler.fit_transform(X_test)\n",
    "\n",
    "svm = SVC(kernel='rbf', random_state=0, gamma=.10, C=1.0)\n",
    "svm.fit(X_train, y_train)\n",
    "\n",
    "print_score(svm ,X_train,y_train,X_test,y_test, train = True)\n",
    "print_score(svm ,X_train,y_train,X_test,y_test, train = False)"
   ]
  },
  {
   "cell_type": "code",
   "execution_count": null,
   "metadata": {},
   "outputs": [],
   "source": []
  }
 ],
 "metadata": {
  "kernelspec": {
   "display_name": "Python 3",
   "language": "python",
   "name": "python3"
  },
  "language_info": {
   "codemirror_mode": {
    "name": "ipython",
    "version": 3
   },
   "file_extension": ".py",
   "mimetype": "text/x-python",
   "name": "python",
   "nbconvert_exporter": "python",
   "pygments_lexer": "ipython3",
   "version": "3.7.1"
  }
 },
 "nbformat": 4,
 "nbformat_minor": 2
}
