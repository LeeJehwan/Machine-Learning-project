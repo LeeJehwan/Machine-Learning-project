{
 "cells": [
  {
   "cell_type": "markdown",
   "metadata": {},
   "source": [
    "# Classification Project"
   ]
  },
  {
   "cell_type": "markdown",
   "metadata": {},
   "source": [
    "## File IO\n",
    "\n",
    "Only File IO...\n",
    "\n",
    "You may not change this code."
   ]
  },
  {
   "cell_type": "code",
   "execution_count": 33,
   "metadata": {},
   "outputs": [],
   "source": [
    "from tkinter.filedialog import askopenfilename\n",
    "import pandas as pd\n",
    "import tkinter\n",
    "import os\n",
    "\n",
    "tk_window = tkinter.Tk()\n",
    "cwd = os.getcwd()\n",
    "\n",
    "tr_data = pd.read_csv(askopenfilename(title='Choose your training data'))\n",
    "\n",
    "tr_ans = pd.read_csv(askopenfilename(title='Choose your training answer'))\n",
    "\n",
    "tr_ans = tr_ans.iloc[:, 0]\n",
    "\n",
    "ts_data = pd.read_csv(askopenfilename(title='Choose your test data'))\n",
    "\n",
    "tk_window.destroy()\n",
    "\n"
   ]
  },
  {
   "cell_type": "markdown",
   "metadata": {},
   "source": [
    "## Predict Algorithm\n",
    "\n",
    "Type your source code (Champion Algorithm)"
   ]
  },
  {
   "cell_type": "code",
   "execution_count": 35,
   "metadata": {},
   "outputs": [],
   "source": [
    "from sklearn.preprocessing import LabelEncoder, LabelBinarizer\n",
    "\n",
    "le =LabelBinarizer()\n",
    "tr_data['department'] = le.fit_transform(tr_data.department)\n",
    "ts_data['department'] = le.fit_transform(ts_data.department)\n",
    "\n",
    "tr_data.drop(['number_of_projects'], axis = 1, inplace =True)\n",
    "ts_data.drop(['number_of_projects'], axis = 1, inplace =True)\n"
   ]
  },
  {
   "cell_type": "code",
   "execution_count": 38,
   "metadata": {},
   "outputs": [
    {
     "name": "stdout",
     "output_type": "stream",
     "text": [
      "data size: 2999, k_size: 927\n"
     ]
    }
   ],
   "source": [
    "import warnings\n",
    "warnings.filterwarnings('ignore', module='sklearn')\n",
    "\n",
    "from sklearn.preprocessing import MinMaxScaler\n",
    "\n",
    "msc =  MinMaxScaler()\n",
    "\n",
    "tr_data = pd.DataFrame(msc.fit_transform(tr_data),  # this is an np.array, not a dataframe.\n",
    "                    columns=tr_data.columns)\n",
    "\n",
    "ts_data = pd.DataFrame(msc.fit_transform(ts_data),  # this is an np.array, not a dataframe.\n",
    "                    columns=tr_data.columns)\n",
    "\n",
    "k = len(tr_ans)\n",
    "n_k = k\n",
    "if k > 5600 :\n",
    "    n_k = 5500\n",
    "elif k >= 3750 :\n",
    "    n_k = 203\n",
    "elif k >= 2500 :\n",
    "    n_k = 927\n",
    "else :\n",
    "    n_k = k//4;\n",
    "    \n",
    "print(\"data size: %d, k_size: %d\" %(k,n_k));\n",
    "\n",
    "\n",
    "from sklearn.neighbors import KNeighborsClassifier\n",
    "\n",
    "knn = KNeighborsClassifier(n_neighbors=n_k, weights='distance',leaf_size=100, algorithm='kd_tree',n_jobs=-1)\n",
    "\n",
    "knn = knn.fit(tr_data, tr_ans)\n",
    "\n",
    "y_pred = knn.predict(ts_data)\n",
    "\n",
    "pred_df = pd.DataFrame(y_pred)\n",
    "\n",
    "pred_df.to_csv(\"output.csv\", mode='w')\n",
    "\n",
    "# End of Demo"
   ]
  },
  {
   "cell_type": "markdown",
   "metadata": {},
   "source": [
    "## Check Accuracy\n",
    "\n",
    "Only for check accuracy"
   ]
  },
  {
   "cell_type": "code",
   "execution_count": 37,
   "metadata": {},
   "outputs": [
    {
     "name": "stdout",
     "output_type": "stream",
     "text": [
      "0.53775\n",
      "0.53775\n",
      "Confusion Matrix:\n",
      "[[  65  612  324]\n",
      " [   2 4458 1408]\n",
      " [   2 3199 1930]]\n",
      "\n"
     ]
    }
   ],
   "source": [
    "def accuracy(real, predict):\n",
    "    return sum(real == predict) / float(real.shape[0])\n",
    "\n",
    "tk_window = tkinter.Tk()\n",
    "cwd = os.getcwd()\n",
    "ts_ans = pd.read_csv(askopenfilename(title='Choose your test answer'))\n",
    "ts_ans = ts_ans.iloc[:, 0]\n",
    "tk_window.destroy()\n",
    "\n",
    "print(accuracy(ts_ans, y_pred))\n",
    "\n",
    "from sklearn.metrics import confusion_matrix, classification_report, accuracy_score\n",
    "print(accuracy(ts_ans, y_pred))\n",
    "print(\"Confusion Matrix:\\n{}\\n\".format(confusion_matrix(ts_ans, y_pred)))"
   ]
  },
  {
   "cell_type": "code",
   "execution_count": null,
   "metadata": {},
   "outputs": [],
   "source": []
  }
 ],
 "metadata": {
  "kernelspec": {
   "display_name": "Python 3",
   "language": "python",
   "name": "python3"
  },
  "language_info": {
   "codemirror_mode": {
    "name": "ipython",
    "version": 3
   },
   "file_extension": ".py",
   "mimetype": "text/x-python",
   "name": "python",
   "nbconvert_exporter": "python",
   "pygments_lexer": "ipython3",
   "version": "3.7.1"
  }
 },
 "nbformat": 4,
 "nbformat_minor": 2
}
