{
 "cells": [
  {
   "cell_type": "code",
   "execution_count": 1,
   "metadata": {},
   "outputs": [],
   "source": [
    "from __future__ import print_function\n",
    "import os\n",
    "data_path = [r'C:\\Users\\wpghk\\ai_data']"
   ]
  },
  {
   "cell_type": "code",
   "execution_count": 2,
   "metadata": {},
   "outputs": [],
   "source": [
    "import numpy as np\n",
    "import pandas as pd\n",
    "\n",
    "filepath = os.sep.join(data_path + ['Iris_Data.csv'])\n",
    "data = pd.read_csv(filepath)"
   ]
  },
  {
   "cell_type": "code",
   "execution_count": 3,
   "metadata": {},
   "outputs": [
    {
     "name": "stderr",
     "output_type": "stream",
     "text": [
      "C:\\Users\\wpghk\\Anaconda3\\lib\\site-packages\\sklearn\\ensemble\\weight_boosting.py:29: DeprecationWarning: numpy.core.umath_tests is an internal NumPy module and should not be imported. It will be removed in a future NumPy release.\n",
      "  from numpy.core.umath_tests import inner1d\n"
     ]
    }
   ],
   "source": [
    "import warnings\n",
    "warnings.filterwarnings(\"ignore\", category=DeprecationWarning) \n",
    "\n",
    "from sklearn.preprocessing import LabelEncoder\n",
    "from sklearn.model_selection import train_test_split\n",
    "from sklearn.preprocessing import StandardScaler\n",
    "from sklearn.model_selection import StratifiedShuffleSplit\n",
    "from sklearn.model_selection import cross_val_score, cross_val_predict\n",
    "from sklearn.metrics import confusion_matrix, classification_report, accuracy_score\n",
    "from sklearn.neighbors import KNeighborsClassifier\n",
    "from sklearn.svm import SVC\n",
    "from sklearn.ensemble import RandomForestClassifier\n",
    "from sklearn.linear_model import LogisticRegression\n",
    "from sklearn.naive_bayes import GaussianNB, BernoulliNB, MultinomialNB\n",
    "from sklearn.tree import DecisionTreeClassifier\n",
    "\n",
    "import matplotlib.pyplot as plt\n",
    "%matplotlib inline"
   ]
  },
  {
   "cell_type": "markdown",
   "metadata": {},
   "source": [
    "Encode species data"
   ]
  },
  {
   "cell_type": "code",
   "execution_count": 4,
   "metadata": {},
   "outputs": [],
   "source": [
    "le = LabelEncoder()\n",
    "data['species'] = le.fit_transform(data.species)"
   ]
  },
  {
   "cell_type": "code",
   "execution_count": 5,
   "metadata": {},
   "outputs": [],
   "source": [
    "X = data.drop('species', axis = 1)\n",
    "y = data['species']"
   ]
  },
  {
   "cell_type": "markdown",
   "metadata": {},
   "source": [
    "split data into X_train, X_test, y_train, y_test"
   ]
  },
  {
   "cell_type": "code",
   "execution_count": 6,
   "metadata": {},
   "outputs": [],
   "source": [
    "X_train, X_test, y_train, y_test = train_test_split(X,y, test_size = 0.4, random_state=0)"
   ]
  },
  {
   "cell_type": "code",
   "execution_count": 65,
   "metadata": {},
   "outputs": [],
   "source": [
    "le = LabelEncoder()\n",
    "data['species'] = le.fit_transform(data.species)\n",
    "feature_cols = data.columns[:-1]\n",
    "corr_values = data[feature_cols].corr()\n",
    "# Get the split indexes\n",
    "strat_shuf_split = StratifiedShuffleSplit(n_splits=1, \n",
    "                                          test_size=0.3, \n",
    "                                          random_state=42)\n",
    "\n",
    "train_idx, test_idx = next(strat_shuf_split.split(data[feature_cols], data.species))\n",
    "\n",
    "# Create the dataframes\n",
    "X_train = data.loc[train_idx, feature_cols]\n",
    "y_train = data.loc[train_idx, 'species']\n",
    "\n",
    "X_test  = data.loc[test_idx, feature_cols]\n",
    "y_test  = data.loc[test_idx, 'species']"
   ]
  },
  {
   "cell_type": "markdown",
   "metadata": {},
   "source": [
    "데이터 특성 스케일링"
   ]
  },
  {
   "cell_type": "code",
   "execution_count": 47,
   "metadata": {},
   "outputs": [],
   "source": [
    "# sc = StandardScaler()\n",
    "\n",
    "# X_train = sc.fit_transform(X_train)\n",
    "# X_test = sc.fit_transform(X_test)"
   ]
  },
  {
   "cell_type": "markdown",
   "metadata": {},
   "source": [
    "평가함수 정의"
   ]
  },
  {
   "cell_type": "code",
   "execution_count": 7,
   "metadata": {},
   "outputs": [],
   "source": [
    "def print_score(classifier, X_train, y_train, X_test, y_test, train = True):\n",
    "    print(\"-\"*100)\n",
    "    if train == True:\n",
    "        y_pred = classifier.predict(X_train)\n",
    "        print(\"Training result:\\n\")\n",
    "        print(\"Accuracy Score: {0:.4f}\\n\".format(accuracy_score(y_train, y_pred)))\n",
    "        print(\"Classification Report:\\n{}\\n\".format(classification_report(y_train, y_pred)))\n",
    "        print(\"Confusion Matrix:\\n{}\\n\".format(confusion_matrix(y_train, y_pred)))\n",
    "        res = cross_val_score(classifier, X_train, y_train, cv = 10, n_jobs= -1, scoring =\"accuracy\")\n",
    "        print(\"Average Accuracy:\\t{0:.4f}\\n\".format(res.mean()))\n",
    "        print(\"Standard Deviation:\\t{0:.4f}\".format(res.std()))\n",
    "    elif train == False:\n",
    "        y_pred = classifier.predict(X_test)\n",
    "        print(\"Test result:\\n\")\n",
    "        print(\"Accuracy Score: {0:.4f}\\n\".format(accuracy_score(y_test, y_pred)))\n",
    "        print(\"Classification Report:\\n{}\\n\".format(classification_report(y_test, y_pred)))\n",
    "        print(\"Confusion Matrix:\\n{}\\n\".format(confusion_matrix(y_test, y_pred)))"
   ]
  },
  {
   "cell_type": "markdown",
   "metadata": {},
   "source": [
    "Model\n",
    "\n",
    "    Random Forest Classifier\n",
    "    Support Vector Classifier\n",
    "    KNeighbors Classifier\n",
    "    Naive Bayes\n",
    "    Logistic Regression\n",
    "    Decision Tree Classifier\n",
    "   "
   ]
  },
  {
   "cell_type": "code",
   "execution_count": 18,
   "metadata": {},
   "outputs": [
    {
     "data": {
      "text/plain": [
       "DecisionTreeClassifier(class_weight=None, criterion='gini', max_depth=None,\n",
       "            max_features=None, max_leaf_nodes=None,\n",
       "            min_impurity_decrease=0.0, min_impurity_split=None,\n",
       "            min_samples_leaf=1, min_samples_split=2,\n",
       "            min_weight_fraction_leaf=0.0, presort=False, random_state=None,\n",
       "            splitter='best')"
      ]
     },
     "execution_count": 18,
     "metadata": {},
     "output_type": "execute_result"
    }
   ],
   "source": [
    "random_forest = RandomForestClassifier( criterion='entropy',random_state = 42)\n",
    "random_forest.fit(X_train, y_train)\n",
    "\n",
    "svm = SVC(kernel='rbf', random_state=42, gamma=.10, C=1.0)\n",
    "svm.fit(X_train, y_train)\n",
    "\n",
    "knn = KNeighborsClassifier(n_neighbors = 3)\n",
    "knn.fit(X_train, y_train)\n",
    "\n",
    "gnb = GaussianNB()\n",
    "gnb.fit(X_train, y_train)\n",
    "bnb = BernoulliNB()\n",
    "bnb.fit(X_train, y_train)\n",
    "mnb = MultinomialNB()\n",
    "mnb.fit(X_train, y_train)\n",
    "\n",
    "logreg = LogisticRegression()\n",
    "logreg.fit(X_train, y_train)\n",
    "\n",
    "dt = DecisionTreeClassifier()\n",
    "dt.fit(X_train, y_train)"
   ]
  },
  {
   "cell_type": "code",
   "execution_count": 19,
   "metadata": {},
   "outputs": [
    {
     "name": "stdout",
     "output_type": "stream",
     "text": [
      "----------------------------------------------------------------------------------------------------\n",
      "Training result:\n",
      "\n",
      "Accuracy Score: 1.0000\n",
      "\n",
      "Classification Report:\n",
      "             precision    recall  f1-score   support\n",
      "\n",
      "          0       1.00      1.00      1.00        34\n",
      "          1       1.00      1.00      1.00        27\n",
      "          2       1.00      1.00      1.00        29\n",
      "\n",
      "avg / total       1.00      1.00      1.00        90\n",
      "\n",
      "\n",
      "Confusion Matrix:\n",
      "[[34  0  0]\n",
      " [ 0 27  0]\n",
      " [ 0  0 29]]\n",
      "\n",
      "Average Accuracy:\t0.9542\n",
      "\n",
      "Standard Deviation:\t0.0751\n",
      "----------------------------------------------------------------------------------------------------\n",
      "Test result:\n",
      "\n",
      "Accuracy Score: 0.9000\n",
      "\n",
      "Classification Report:\n",
      "             precision    recall  f1-score   support\n",
      "\n",
      "          0       1.00      1.00      1.00        16\n",
      "          1       0.81      0.96      0.88        23\n",
      "          2       0.94      0.76      0.84        21\n",
      "\n",
      "avg / total       0.91      0.90      0.90        60\n",
      "\n",
      "\n",
      "Confusion Matrix:\n",
      "[[16  0  0]\n",
      " [ 0 22  1]\n",
      " [ 0  5 16]]\n",
      "\n"
     ]
    }
   ],
   "source": [
    "print_score(random_forest ,X_train,y_train,X_test,y_test, train = True)\n",
    "print_score(random_forest ,X_train,y_train,X_test,y_test, train = False)"
   ]
  },
  {
   "cell_type": "code",
   "execution_count": 10,
   "metadata": {},
   "outputs": [
    {
     "name": "stdout",
     "output_type": "stream",
     "text": [
      "----------------------------------------------------------------------------------------------------\n",
      "Training result:\n",
      "\n",
      "Accuracy Score: 0.9778\n",
      "\n",
      "Classification Report:\n",
      "             precision    recall  f1-score   support\n",
      "\n",
      "          0       1.00      1.00      1.00        34\n",
      "          1       0.96      0.96      0.96        27\n",
      "          2       0.97      0.97      0.97        29\n",
      "\n",
      "avg / total       0.98      0.98      0.98        90\n",
      "\n",
      "\n",
      "Confusion Matrix:\n",
      "[[34  0  0]\n",
      " [ 0 26  1]\n",
      " [ 0  1 28]]\n",
      "\n",
      "Average Accuracy:\t0.9778\n",
      "\n",
      "Standard Deviation:\t0.0667\n",
      "----------------------------------------------------------------------------------------------------\n",
      "Test result:\n",
      "\n",
      "Accuracy Score: 0.9333\n",
      "\n",
      "Classification Report:\n",
      "             precision    recall  f1-score   support\n",
      "\n",
      "          0       1.00      1.00      1.00        16\n",
      "          1       0.88      0.96      0.92        23\n",
      "          2       0.95      0.86      0.90        21\n",
      "\n",
      "avg / total       0.94      0.93      0.93        60\n",
      "\n",
      "\n",
      "Confusion Matrix:\n",
      "[[16  0  0]\n",
      " [ 0 22  1]\n",
      " [ 0  3 18]]\n",
      "\n"
     ]
    }
   ],
   "source": [
    "print_score(svm ,X_train,y_train,X_test,y_test, train = True)\n",
    "print_score(svm ,X_train,y_train,X_test,y_test, train = False)"
   ]
  },
  {
   "cell_type": "code",
   "execution_count": 11,
   "metadata": {},
   "outputs": [
    {
     "name": "stdout",
     "output_type": "stream",
     "text": [
      "----------------------------------------------------------------------------------------------------\n",
      "Training result:\n",
      "\n",
      "Accuracy Score: 0.9889\n",
      "\n",
      "Classification Report:\n",
      "             precision    recall  f1-score   support\n",
      "\n",
      "          0       1.00      1.00      1.00        34\n",
      "          1       1.00      0.96      0.98        27\n",
      "          2       0.97      1.00      0.98        29\n",
      "\n",
      "avg / total       0.99      0.99      0.99        90\n",
      "\n",
      "\n",
      "Confusion Matrix:\n",
      "[[34  0  0]\n",
      " [ 0 26  1]\n",
      " [ 0  0 29]]\n",
      "\n",
      "Average Accuracy:\t0.9653\n",
      "\n",
      "Standard Deviation:\t0.0728\n",
      "----------------------------------------------------------------------------------------------------\n",
      "Test result:\n",
      "\n",
      "Accuracy Score: 0.9333\n",
      "\n",
      "Classification Report:\n",
      "             precision    recall  f1-score   support\n",
      "\n",
      "          0       1.00      1.00      1.00        16\n",
      "          1       0.88      0.96      0.92        23\n",
      "          2       0.95      0.86      0.90        21\n",
      "\n",
      "avg / total       0.94      0.93      0.93        60\n",
      "\n",
      "\n",
      "Confusion Matrix:\n",
      "[[16  0  0]\n",
      " [ 0 22  1]\n",
      " [ 0  3 18]]\n",
      "\n"
     ]
    }
   ],
   "source": [
    "print_score(knn ,X_train,y_train,X_test,y_test, train = True)\n",
    "print_score(knn ,X_train,y_train,X_test,y_test, train = False)"
   ]
  },
  {
   "cell_type": "code",
   "execution_count": 16,
   "metadata": {},
   "outputs": [
    {
     "name": "stdout",
     "output_type": "stream",
     "text": [
      "----------------------------------------------------------------------------------------------------\n",
      "Training result:\n",
      "\n",
      "Accuracy Score: 0.9778\n",
      "\n",
      "Classification Report:\n",
      "             precision    recall  f1-score   support\n",
      "\n",
      "          0       1.00      1.00      1.00        34\n",
      "          1       1.00      0.93      0.96        27\n",
      "          2       0.94      1.00      0.97        29\n",
      "\n",
      "avg / total       0.98      0.98      0.98        90\n",
      "\n",
      "\n",
      "Confusion Matrix:\n",
      "[[34  0  0]\n",
      " [ 0 25  2]\n",
      " [ 0  0 29]]\n",
      "\n",
      "Average Accuracy:\t0.9764\n",
      "\n",
      "Standard Deviation:\t0.0473\n",
      "----------------------------------------------------------------------------------------------------\n",
      "Test result:\n",
      "\n",
      "Accuracy Score: 0.9333\n",
      "\n",
      "Classification Report:\n",
      "             precision    recall  f1-score   support\n",
      "\n",
      "          0       1.00      1.00      1.00        16\n",
      "          1       0.85      1.00      0.92        23\n",
      "          2       1.00      0.81      0.89        21\n",
      "\n",
      "avg / total       0.94      0.93      0.93        60\n",
      "\n",
      "\n",
      "Confusion Matrix:\n",
      "[[16  0  0]\n",
      " [ 0 23  0]\n",
      " [ 0  4 17]]\n",
      "\n",
      "----------------------------------------------------------------------------------------------------\n",
      "Training result:\n",
      "\n",
      "Accuracy Score: 0.3778\n",
      "\n",
      "Classification Report:\n",
      "             precision    recall  f1-score   support\n",
      "\n",
      "          0       0.38      1.00      0.55        34\n",
      "          1       0.00      0.00      0.00        27\n",
      "          2       0.00      0.00      0.00        29\n",
      "\n",
      "avg / total       0.14      0.38      0.21        90\n",
      "\n",
      "\n",
      "Confusion Matrix:\n",
      "[[34  0  0]\n",
      " [27  0  0]\n",
      " [29  0  0]]\n",
      "\n"
     ]
    },
    {
     "name": "stderr",
     "output_type": "stream",
     "text": [
      "C:\\Users\\wpghk\\Anaconda3\\lib\\site-packages\\sklearn\\metrics\\classification.py:1135: UndefinedMetricWarning: Precision and F-score are ill-defined and being set to 0.0 in labels with no predicted samples.\n",
      "  'precision', 'predicted', average, warn_for)\n"
     ]
    },
    {
     "name": "stdout",
     "output_type": "stream",
     "text": [
      "Average Accuracy:\t0.3779\n",
      "\n",
      "Standard Deviation:\t0.0324\n",
      "----------------------------------------------------------------------------------------------------\n",
      "Test result:\n",
      "\n",
      "Accuracy Score: 0.2667\n",
      "\n",
      "Classification Report:\n",
      "             precision    recall  f1-score   support\n",
      "\n",
      "          0       0.27      1.00      0.42        16\n",
      "          1       0.00      0.00      0.00        23\n",
      "          2       0.00      0.00      0.00        21\n",
      "\n",
      "avg / total       0.07      0.27      0.11        60\n",
      "\n",
      "\n",
      "Confusion Matrix:\n",
      "[[16  0  0]\n",
      " [23  0  0]\n",
      " [21  0  0]]\n",
      "\n",
      "----------------------------------------------------------------------------------------------------\n",
      "Training result:\n",
      "\n",
      "Accuracy Score: 0.9000\n",
      "\n",
      "Classification Report:\n",
      "             precision    recall  f1-score   support\n",
      "\n",
      "          0       1.00      1.00      1.00        34\n",
      "          1       1.00      0.67      0.80        27\n",
      "          2       0.76      1.00      0.87        29\n",
      "\n",
      "avg / total       0.92      0.90      0.90        90\n",
      "\n",
      "\n",
      "Confusion Matrix:\n",
      "[[34  0  0]\n",
      " [ 0 18  9]\n",
      " [ 0  0 29]]\n",
      "\n"
     ]
    },
    {
     "name": "stderr",
     "output_type": "stream",
     "text": [
      "C:\\Users\\wpghk\\Anaconda3\\lib\\site-packages\\sklearn\\metrics\\classification.py:1135: UndefinedMetricWarning: Precision and F-score are ill-defined and being set to 0.0 in labels with no predicted samples.\n",
      "  'precision', 'predicted', average, warn_for)\n"
     ]
    },
    {
     "name": "stdout",
     "output_type": "stream",
     "text": [
      "Average Accuracy:\t0.8910\n",
      "\n",
      "Standard Deviation:\t0.0816\n",
      "----------------------------------------------------------------------------------------------------\n",
      "Test result:\n",
      "\n",
      "Accuracy Score: 0.8833\n",
      "\n",
      "Classification Report:\n",
      "             precision    recall  f1-score   support\n",
      "\n",
      "          0       1.00      1.00      1.00        16\n",
      "          1       1.00      0.70      0.82        23\n",
      "          2       0.75      1.00      0.86        21\n",
      "\n",
      "avg / total       0.91      0.88      0.88        60\n",
      "\n",
      "\n",
      "Confusion Matrix:\n",
      "[[16  0  0]\n",
      " [ 0 16  7]\n",
      " [ 0  0 21]]\n",
      "\n"
     ]
    }
   ],
   "source": [
    "print_score(gnb ,X_train,y_train,X_test,y_test, train = True)\n",
    "print_score(gnb ,X_train,y_train,X_test,y_test, train = False)\n",
    "print_score(bnb ,X_train,y_train,X_test,y_test, train = True)\n",
    "print_score(bnb ,X_train,y_train,X_test,y_test, train = False)\n",
    "print_score(mnb ,X_train,y_train,X_test,y_test, train = True)\n",
    "print_score(mnb ,X_train,y_train,X_test,y_test, train = False)"
   ]
  },
  {
   "cell_type": "code",
   "execution_count": 54,
   "metadata": {},
   "outputs": [
    {
     "name": "stdout",
     "output_type": "stream",
     "text": [
      "----------------------------------------------------------------------------------------------------\n",
      "Training result:\n",
      "\n",
      "Accuracy Score: 0.9619\n",
      "\n",
      "Classification Report:\n",
      "             precision    recall  f1-score   support\n",
      "\n",
      "          0       1.00      1.00      1.00        35\n",
      "          1       0.97      0.91      0.94        35\n",
      "          2       0.92      0.97      0.94        35\n",
      "\n",
      "avg / total       0.96      0.96      0.96       105\n",
      "\n",
      "\n",
      "Confusion Matrix:\n",
      "[[35  0  0]\n",
      " [ 0 32  3]\n",
      " [ 0  1 34]]\n",
      "\n",
      "Average Accuracy:\t0.9583\n",
      "\n",
      "Standard Deviation:\t0.0716\n",
      "----------------------------------------------------------------------------------------------------\n",
      "Test result:\n",
      "\n",
      "Accuracy Score: 0.9111\n",
      "\n",
      "Classification Report:\n",
      "             precision    recall  f1-score   support\n",
      "\n",
      "          0       1.00      1.00      1.00        15\n",
      "          1       1.00      0.73      0.85        15\n",
      "          2       0.79      1.00      0.88        15\n",
      "\n",
      "avg / total       0.93      0.91      0.91        45\n",
      "\n",
      "\n",
      "Confusion Matrix:\n",
      "[[15  0  0]\n",
      " [ 0 11  4]\n",
      " [ 0  0 15]]\n",
      "\n"
     ]
    }
   ],
   "source": [
    "print_score(logreg ,X_train,y_train,X_test,y_test, train = True)\n",
    "print_score(logreg ,X_train,y_train,X_test,y_test, train = False)"
   ]
  },
  {
   "cell_type": "code",
   "execution_count": 17,
   "metadata": {},
   "outputs": [
    {
     "name": "stdout",
     "output_type": "stream",
     "text": [
      "----------------------------------------------------------------------------------------------------\n",
      "Training result:\n",
      "\n",
      "Accuracy Score: 1.0000\n",
      "\n",
      "Classification Report:\n",
      "             precision    recall  f1-score   support\n",
      "\n",
      "          0       1.00      1.00      1.00        34\n",
      "          1       1.00      1.00      1.00        27\n",
      "          2       1.00      1.00      1.00        29\n",
      "\n",
      "avg / total       1.00      1.00      1.00        90\n",
      "\n",
      "\n",
      "Confusion Matrix:\n",
      "[[34  0  0]\n",
      " [ 0 27  0]\n",
      " [ 0  0 29]]\n",
      "\n",
      "Average Accuracy:\t0.9542\n",
      "\n",
      "Standard Deviation:\t0.0751\n",
      "----------------------------------------------------------------------------------------------------\n",
      "Test result:\n",
      "\n",
      "Accuracy Score: 0.9500\n",
      "\n",
      "Classification Report:\n",
      "             precision    recall  f1-score   support\n",
      "\n",
      "          0       1.00      1.00      1.00        16\n",
      "          1       0.92      0.96      0.94        23\n",
      "          2       0.95      0.90      0.93        21\n",
      "\n",
      "avg / total       0.95      0.95      0.95        60\n",
      "\n",
      "\n",
      "Confusion Matrix:\n",
      "[[16  0  0]\n",
      " [ 0 22  1]\n",
      " [ 0  2 19]]\n",
      "\n"
     ]
    },
    {
     "data": {
      "text/plain": [
       "(9, 4)"
      ]
     },
     "execution_count": 17,
     "metadata": {},
     "output_type": "execute_result"
    }
   ],
   "source": [
    "print_score(dt ,X_train,y_train,X_test,y_test, train = True)\n",
    "print_score(dt ,X_train,y_train,X_test,y_test, train = False)\n",
    "dt.tree_.node_count, dt.tree_.max_depth"
   ]
  },
  {
   "cell_type": "code",
   "execution_count": 56,
   "metadata": {},
   "outputs": [
    {
     "data": {
      "image/png": "[encoded data removed]",
      "text/plain": [
       "<Figure size 432x288 with 1 Axes>"
      ]
     },
     "metadata": {
      "needs_background": "light"
     },
     "output_type": "display_data"
    }
   ],
   "source": [
    "k_range = list(range(1,26))\n",
    "scores = []\n",
    "for k in k_range:\n",
    "    knn = KNeighborsClassifier(n_neighbors=k)\n",
    "    knn.fit(X_train, y_train)\n",
    "    y_pred = knn.predict(X_test)\n",
    "    scores.append(accuracy_score(y_test, y_pred))\n",
    "    \n",
    "plt.plot(k_range, scores)\n",
    "plt.xlabel('Value of k for model')\n",
    "plt.ylabel('Accuracy Score')\n",
    "plt.title('Accuracy Scores for Values of k of model')\n",
    "plt.show()\n"
   ]
  },
  {
   "cell_type": "code",
   "execution_count": 15,
   "metadata": {},
   "outputs": [
    {
     "name": "stdout",
     "output_type": "stream",
     "text": [
      "----------------------------------------------------------------------------------------------------\n",
      "Training result:\n",
      "\n",
      "Accuracy Score: 1.0000\n",
      "\n",
      "Classification Report:\n",
      "             precision    recall  f1-score   support\n",
      "\n",
      "          0       1.00      1.00      1.00        34\n",
      "          1       1.00      1.00      1.00        27\n",
      "          2       1.00      1.00      1.00        29\n",
      "\n",
      "avg / total       1.00      1.00      1.00        90\n",
      "\n",
      "\n",
      "Confusion Matrix:\n",
      "[[34  0  0]\n",
      " [ 0 27  0]\n",
      " [ 0  0 29]]\n",
      "\n",
      "Average Accuracy:\t0.9653\n",
      "\n",
      "Standard Deviation:\t0.0728\n",
      "----------------------------------------------------------------------------------------------------\n",
      "Test result:\n",
      "\n",
      "Accuracy Score: 0.9333\n",
      "\n",
      "Classification Report:\n",
      "             precision    recall  f1-score   support\n",
      "\n",
      "          0       1.00      1.00      1.00        16\n",
      "          1       0.88      0.96      0.92        23\n",
      "          2       0.95      0.86      0.90        21\n",
      "\n",
      "avg / total       0.94      0.93      0.93        60\n",
      "\n",
      "\n",
      "Confusion Matrix:\n",
      "[[16  0  0]\n",
      " [ 0 22  1]\n",
      " [ 0  3 18]]\n",
      "\n"
     ]
    }
   ],
   "source": [
    "from sklearn.ensemble import AdaBoostClassifier\n",
    "from sklearn.tree import DecisionTreeClassifier\n",
    "\n",
    "ABR = AdaBoostClassifier(base_estimator=RandomForestClassifier(), learning_rate=0.1, n_estimators=200)\n",
    "\n",
    "ABR= ABR.fit(X_train, y_train)\n",
    "\n",
    "y_pred = ABR.predict(X_test)\n",
    "pred_df = pd.DataFrame(y_pred)\n",
    "\n",
    "pred_df.to_csv(\"output.csv\", mode='w')\n",
    "# End of Demo\n",
    "\n",
    "\n",
    "print_score(ABR ,X_train,y_train,X_test,y_test, train = True)\n",
    "print_score(ABR ,X_train,y_train,X_test,y_test, train = False)"
   ]
  },
  {
   "cell_type": "code",
   "execution_count": 14,
   "metadata": {},
   "outputs": [
    {
     "data": {
      "image/png": "[encoded data removed]",
      "text/plain": [
       "<Figure size 432x288 with 1 Axes>"
      ]
     },
     "metadata": {
      "needs_background": "light"
     },
     "output_type": "display_data"
    }
   ],
   "source": [
    "k_range = [0.01,0.02,0.03,0.04,0.05, 0.06, 0.07, 0.08, 0.09, 0.10]\n",
    "scores = []\n",
    "for k in k_range:\n",
    "    ABR = AdaBoostClassifier(base_estimator=DecisionTreeClassifier(), learning_rate=k, n_estimators=200)\n",
    "    ABR= ABR.fit(X_train, y_train)\n",
    "    y_pred = ABR.predict(X_test)\n",
    "    scores.append(accuracy_score(y_test, y_pred))\n",
    "    \n",
    "plt.plot(k_range, scores)\n",
    "plt.xlabel('Value of k for KNN')\n",
    "plt.ylabel('Accuracy Score')\n",
    "plt.title('Accuracy Scores for Values of k of k-Nearest-Neighbors')\n",
    "plt.show()\n"
   ]
  },
  {
   "cell_type": "code",
   "execution_count": 13,
   "metadata": {},
   "outputs": [
    {
     "name": "stderr",
     "output_type": "stream",
     "text": [
      "C:\\Users\\wpghk\\Anaconda3\\lib\\site-packages\\sklearn\\preprocessing\\label.py:151: DeprecationWarning: The truth value of an empty array is ambiguous. Returning False, but in future this will result in an error. Use `array.size > 0` to check that an array is not empty.\n",
      "  if diff:\n",
      "C:\\Users\\wpghk\\Anaconda3\\lib\\site-packages\\sklearn\\preprocessing\\label.py:151: DeprecationWarning: The truth value of an empty array is ambiguous. Returning False, but in future this will result in an error. Use `array.size > 0` to check that an array is not empty.\n",
      "  if diff:\n"
     ]
    },
    {
     "name": "stdout",
     "output_type": "stream",
     "text": [
      "----------------------------------------------------------------------------------------------------\n",
      "Training result:\n",
      "\n",
      "Accuracy Score: 1.0000\n",
      "\n",
      "Classification Report:\n",
      "             precision    recall  f1-score   support\n",
      "\n",
      "          0       1.00      1.00      1.00        34\n",
      "          1       1.00      1.00      1.00        27\n",
      "          2       1.00      1.00      1.00        29\n",
      "\n",
      "avg / total       1.00      1.00      1.00        90\n",
      "\n",
      "\n",
      "Confusion Matrix:\n",
      "[[34  0  0]\n",
      " [ 0 27  0]\n",
      " [ 0  0 29]]\n",
      "\n",
      "Average Accuracy:\t0.9653\n",
      "\n",
      "Standard Deviation:\t0.0728\n",
      "----------------------------------------------------------------------------------------------------\n",
      "Test result:\n",
      "\n",
      "Accuracy Score: 0.9500\n",
      "\n",
      "Classification Report:\n",
      "             precision    recall  f1-score   support\n",
      "\n",
      "          0       1.00      1.00      1.00        16\n",
      "          1       0.92      0.96      0.94        23\n",
      "          2       0.95      0.90      0.93        21\n",
      "\n",
      "avg / total       0.95      0.95      0.95        60\n",
      "\n",
      "\n",
      "Confusion Matrix:\n",
      "[[16  0  0]\n",
      " [ 0 22  1]\n",
      " [ 0  2 19]]\n",
      "\n"
     ]
    },
    {
     "name": "stderr",
     "output_type": "stream",
     "text": [
      "C:\\Users\\wpghk\\Anaconda3\\lib\\site-packages\\sklearn\\preprocessing\\label.py:151: DeprecationWarning: The truth value of an empty array is ambiguous. Returning False, but in future this will result in an error. Use `array.size > 0` to check that an array is not empty.\n",
      "  if diff:\n"
     ]
    }
   ],
   "source": [
    "from sklearn.ensemble import VotingClassifier,  AdaBoostClassifier, RandomForestClassifier\n",
    "from sklearn.tree import DecisionTreeClassifier\n",
    "from sklearn.svm import SVC\n",
    "\n",
    "ABR = AdaBoostClassifier(base_estimator=RandomForestClassifier(), learning_rate=0.1, n_estimators=200)\n",
    "ABD = AdaBoostClassifier(base_estimator=DecisionTreeClassifier(), learning_rate=0.1, n_estimators=200)\n",
    "SVM = SVC(kernel='rbf', random_state=0, gamma=.10, C=1.0, probability = True)\n",
    "\n",
    "\n",
    "VC = VotingClassifier(estimators=[('lr', ABR), ('rf', ABD), ('svc', SVM)], voting='soft', weights=[1,1,2])\n",
    "VC.fit(X_train, y_train)\n",
    "\n",
    "y_pred = VC.predict(X_test)\n",
    "pred_df = pd.DataFrame(y_pred)\n",
    "\n",
    "\n",
    "\n",
    "print_score(VC ,X_train,y_train,X_test,y_test, train = True)\n",
    "print_score(VC ,X_train,y_train,X_test,y_test, train = False)"
   ]
  },
  {
   "cell_type": "code",
   "execution_count": 12,
   "metadata": {},
   "outputs": [
    {
     "name": "stdout",
     "output_type": "stream",
     "text": [
      "----------------------------------------------------------------------------------------------------\n",
      "Training result:\n",
      "\n",
      "Accuracy Score: 0.9000\n",
      "\n",
      "Classification Report:\n",
      "             precision    recall  f1-score   support\n",
      "\n",
      "          0       1.00      1.00      1.00        34\n",
      "          1       1.00      0.67      0.80        27\n",
      "          2       0.76      1.00      0.87        29\n",
      "\n",
      "avg / total       0.92      0.90      0.90        90\n",
      "\n",
      "\n",
      "Confusion Matrix:\n",
      "[[34  0  0]\n",
      " [ 0 18  9]\n",
      " [ 0  0 29]]\n",
      "\n",
      "Average Accuracy:\t0.8910\n",
      "\n",
      "Standard Deviation:\t0.0816\n",
      "----------------------------------------------------------------------------------------------------\n",
      "Test result:\n",
      "\n",
      "Accuracy Score: 0.8833\n",
      "\n",
      "Classification Report:\n",
      "             precision    recall  f1-score   support\n",
      "\n",
      "          0       1.00      1.00      1.00        16\n",
      "          1       1.00      0.70      0.82        23\n",
      "          2       0.75      1.00      0.86        21\n",
      "\n",
      "avg / total       0.91      0.88      0.88        60\n",
      "\n",
      "\n",
      "Confusion Matrix:\n",
      "[[16  0  0]\n",
      " [ 0 16  7]\n",
      " [ 0  0 21]]\n",
      "\n"
     ]
    }
   ],
   "source": [
    "\n",
    "from sklearn.ensemble import GradientBoostingClassifier\n",
    "\n",
    "gdbc = GradientBoostingClassifier(random_state = 42)\n",
    "gdbc.fit(X_train, y_train)\n",
    "print_score(mnb ,X_train,y_train,X_test,y_test, train = True)\n",
    "print_score(mnb ,X_train,y_train,X_test,y_test, train = False)"
   ]
  },
  {
   "cell_type": "code",
   "execution_count": null,
   "metadata": {},
   "outputs": [],
   "source": []
  },
  {
   "cell_type": "code",
   "execution_count": null,
   "metadata": {},
   "outputs": [],
   "source": []
  },
  {
   "cell_type": "code",
   "execution_count": null,
   "metadata": {},
   "outputs": [],
   "source": []
  }
 ],
 "metadata": {
  "kernelspec": {
   "display_name": "Python 3",
   "language": "python",
   "name": "python3"
  },
  "language_info": {
   "codemirror_mode": {
    "name": "ipython",
    "version": 3
   },
   "file_extension": ".py",
   "mimetype": "text/x-python",
   "name": "python",
   "nbconvert_exporter": "python",
   "pygments_lexer": "ipython3",
   "version": "3.7.1"
  }
 },
 "nbformat": 4,
 "nbformat_minor": 2
}
