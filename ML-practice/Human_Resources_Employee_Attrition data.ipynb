{
 "cells": [
  {
   "cell_type": "code",
   "execution_count": 15,
   "metadata": {},
   "outputs": [],
   "source": [
    "from __future__ import print_function\n",
    "import os\n",
    "# Type Path\n",
    "data_path = [r'C:\\Users\\wpghk\\ai_data']\n",
    "\n",
    "import pandas as pd\n",
    "import numpy as np\n",
    "\n",
    "filepath = os.sep.join(data_path + ['Human_Resources_Employee_Attrition.csv'])\n",
    "data = pd.read_csv(filepath, sep=',')"
   ]
  },
  {
   "cell_type": "code",
   "execution_count": 16,
   "metadata": {},
   "outputs": [],
   "source": [
    "import warnings\n",
    "warnings.filterwarnings(\"ignore\", category=DeprecationWarning) \n",
    "warnings.filterwarnings(\"ignore\", category=UserWarning)\n",
    "warnings.filterwarnings(\"ignore\", category=RuntimeWarning)\n",
    "warnings.filterwarnings('ignore', module='sklearn')\n",
    "\n",
    "from sklearn.preprocessing import MinMaxScaler, LabelBinarizer, LabelEncoder, OneHotEncoder\n",
    "from sklearn.model_selection import train_test_split, StratifiedShuffleSplit\n",
    "from sklearn.preprocessing import StandardScaler\n",
    "from sklearn.model_selection import cross_val_score, cross_val_predict\n",
    "from sklearn.metrics import confusion_matrix, classification_report, accuracy_score\n",
    "from sklearn.neighbors import KNeighborsClassifier\n",
    "from sklearn.svm import SVC\n",
    "from sklearn.ensemble import RandomForestClassifier\n",
    "from sklearn.linear_model import LogisticRegression\n",
    "from sklearn.naive_bayes import GaussianNB, BernoulliNB, MultinomialNB\n",
    "from sklearn.tree import DecisionTreeClassifier \n",
    "\n",
    "import matplotlib.pyplot as plt\n",
    "%matplotlib inline"
   ]
  },
  {
   "cell_type": "code",
   "execution_count": 17,
   "metadata": {},
   "outputs": [],
   "source": [
    "le = LabelEncoder()\n",
    "data['salary'] = le.fit_transform(data.salary)\n",
    "data['department'] = le.fit_transform(data.department)\n",
    "\n",
    "#data = data.drop({'average_monthly_hours','work_accident','number_of_projects'}, axis = 1)"
   ]
  },
  {
   "cell_type": "code",
   "execution_count": 18,
   "metadata": {},
   "outputs": [],
   "source": [
    "#from sklearn.cross_validation import train_test_split\n",
    "#X_train, X_test, y_train, y_test = train_test_split(X, y, test_size = 0.3, random_state = 42)"
   ]
  },
  {
   "cell_type": "code",
   "execution_count": 19,
   "metadata": {},
   "outputs": [],
   "source": [
    "from sklearn.preprocessing import LabelEncoder, LabelBinarizer\n",
    "\n",
    "lb =LabelBinarizer()\n",
    "data['department'] = lb.fit_transform(data.department)\n",
    "le = LabelEncoder()\n",
    "data['salary'] = le.fit_transform(data.salary)\n",
    "\n",
    "data.drop(['number_of_projects'], axis = 1, inplace =True)\n",
    "\n",
    "import warnings\n",
    "warnings.filterwarnings('ignore', module='sklearn')\n",
    "\n",
    "\n"
   ]
  },
  {
   "cell_type": "code",
   "execution_count": null,
   "metadata": {},
   "outputs": [],
   "source": []
  },
  {
   "cell_type": "code",
   "execution_count": 20,
   "metadata": {},
   "outputs": [],
   "source": [
    "target = 'salary'\n",
    "feature_cols = [x for x in data.columns if x != target]\n",
    "\n",
    "# Split the data into two parts with 1500 points in the test data\n",
    "# This creates a generator\n",
    "strat_shuff_split = StratifiedShuffleSplit(n_splits=1, test_size=0.6, random_state=42)\n",
    "\n",
    "# Get the index values from the generator\n",
    "train_idx, test_idx = next(strat_shuff_split.split(data[feature_cols], data[target]))\n",
    "\n",
    "# Create the data sets\n",
    "X_train = data.loc[train_idx, feature_cols]\n",
    "y_train = data.loc[train_idx, target]\n",
    "\n",
    "X_test = data.loc[test_idx, feature_cols]\n",
    "y_test = data.loc[test_idx, target]"
   ]
  },
  {
   "cell_type": "code",
   "execution_count": 5,
   "metadata": {},
   "outputs": [],
   "source": [
    "\n",
    "\n",
    "from sklearn.preprocessing import MinMaxScaler\n",
    "\n",
    "scaler = MinMaxScaler()\n",
    "X_train = scaler.fit_transform(X_train)\n",
    "X_test = scaler.fit_transform(X_test)\n"
   ]
  },
  {
   "cell_type": "code",
   "execution_count": 21,
   "metadata": {},
   "outputs": [],
   "source": [
    "def print_score(classifier, X_train, y_train, X_test, y_test, train = True):\n",
    "    if train == True:\n",
    "        y_pred = classifier.predict(X_train)\n",
    "        print(\"Training result:\\n\")\n",
    "        print(\"Accuracy Score: {0:.4f}\\n\".format(accuracy_score(y_train, y_pred)))\n",
    "        print(\"Classification Report:\\n{}\\n\".format(classification_report(y_train, y_pred)))\n",
    "        print(\"Confusion Matrix:\\n{}\\n\".format(confusion_matrix(y_train, y_pred)))\n",
    " #       res = cross_val_score(classifier, X_train, y_train, cv = 10, n_jobs= -1, scoring =\"accuracy\")\n",
    " #       print(\"Average Accuracy:\\t{0:.4f}\\n\".format(res.mean()))\n",
    " #       print(\"Standard Deviation:\\t{0:.4f}\".format(res.std()))\n",
    "    elif train == False:\n",
    "        y_pred = classifier.predict(X_test)\n",
    "        print(\"Test result:\\n\")\n",
    "        print(\"Accuracy Score: {0:.4f}\\n\".format(accuracy_score(y_test, y_pred)))\n",
    "        print(\"Classification Report:\\n{}\\n\".format(classification_report(y_test, y_pred)))\n",
    "        print(\"Confusion Matrix:\\n{}\\n\".format(confusion_matrix(y_test, y_pred)))"
   ]
  },
  {
   "cell_type": "markdown",
   "metadata": {},
   "source": [
    "Model\n",
    "\n",
    "    Random Forest Classifier\n",
    "    Support Vector Classifier\n",
    "    KNeighbors Classifier\n",
    "    Naive Bayes\n",
    "    Logistic Regression\n",
    "    Decision Tree Classifier\n",
    "   "
   ]
  },
  {
   "cell_type": "code",
   "execution_count": 25,
   "metadata": {},
   "outputs": [
    {
     "data": {
      "text/plain": [
       "DecisionTreeClassifier(class_weight=None, criterion='gini', max_depth=None,\n",
       "            max_features=None, max_leaf_nodes=None,\n",
       "            min_impurity_decrease=0.0, min_impurity_split=None,\n",
       "            min_samples_leaf=1, min_samples_split=2,\n",
       "            min_weight_fraction_leaf=0.0, presort=False, random_state=None,\n",
       "            splitter='best')"
      ]
     },
     "execution_count": 25,
     "metadata": {},
     "output_type": "execute_result"
    }
   ],
   "source": [
    "random_forest = RandomForestClassifier(n_estimators = 100, criterion='entropy',random_state = 0)\n",
    "random_forest.fit(X_train, y_train)\n",
    "\n",
    "svm = SVC(kernel='rbf', random_state=0, gamma=.10, C=1.0)\n",
    "svm.fit(X_train, y_train)\n",
    "\n",
    "knn = KNeighborsClassifier(n_neighbors = 3)\n",
    "knn.fit(X_train, y_train)\n",
    "\n",
    "gnb = GaussianNB()\n",
    "gnb.fit(X_train, y_train)\n",
    "bnb = BernoulliNB()\n",
    "bnb.fit(X_train, y_train)\n",
    "mnb = MultinomialNB()\n",
    "mnb.fit(X_train, y_train)\n",
    "\n",
    "logreg = LogisticRegression()\n",
    "logreg.fit(X_train, y_train)\n",
    "\n",
    "dt = DecisionTreeClassifier()\n",
    "dt.fit(X_train, y_train)"
   ]
  },
  {
   "cell_type": "code",
   "execution_count": 23,
   "metadata": {
    "scrolled": true
   },
   "outputs": [
    {
     "data": {
      "text/plain": [
       "RandomForestClassifier(bootstrap=True, class_weight=None, criterion='entropy',\n",
       "            max_depth=30, max_features='auto', max_leaf_nodes=None,\n",
       "            min_impurity_decrease=0.0, min_impurity_split=None,\n",
       "            min_samples_leaf=3, min_samples_split=2,\n",
       "            min_weight_fraction_leaf=0.0, n_estimators=10, n_jobs=None,\n",
       "            oob_score=False, random_state=42, verbose=0, warm_start=False)"
      ]
     },
     "execution_count": 23,
     "metadata": {},
     "output_type": "execute_result"
    }
   ],
   "source": [
    "random_forest = RandomForestClassifier(criterion='entropy',random_state = 42, max_depth = 30, min_samples_leaf =3)\n",
    "random_forest.fit(X_train, y_train)"
   ]
  },
  {
   "cell_type": "code",
   "execution_count": 26,
   "metadata": {},
   "outputs": [
    {
     "name": "stdout",
     "output_type": "stream",
     "text": [
      "Training result:\n",
      "\n",
      "Accuracy Score: 0.9970\n",
      "\n",
      "Classification Report:\n",
      "              precision    recall  f1-score   support\n",
      "\n",
      "           0       1.00      1.00      1.00       495\n",
      "           1       1.00      1.00      1.00      2926\n",
      "           2       1.00      1.00      1.00      2578\n",
      "\n",
      "   micro avg       1.00      1.00      1.00      5999\n",
      "   macro avg       1.00      1.00      1.00      5999\n",
      "weighted avg       1.00      1.00      1.00      5999\n",
      "\n",
      "\n",
      "Confusion Matrix:\n",
      "[[ 493    1    1]\n",
      " [   0 2920    6]\n",
      " [   2    8 2568]]\n",
      "\n",
      "Test result:\n",
      "\n",
      "Accuracy Score: 0.5508\n",
      "\n",
      "Classification Report:\n",
      "              precision    recall  f1-score   support\n",
      "\n",
      "           0       0.52      0.20      0.29       742\n",
      "           1       0.57      0.65      0.61      4390\n",
      "           2       0.53      0.51      0.52      3868\n",
      "\n",
      "   micro avg       0.55      0.55      0.55      9000\n",
      "   macro avg       0.54      0.45      0.47      9000\n",
      "weighted avg       0.55      0.55      0.54      9000\n",
      "\n",
      "\n",
      "Confusion Matrix:\n",
      "[[ 151  333  258]\n",
      " [  51 2836 1503]\n",
      " [  87 1811 1970]]\n",
      "\n"
     ]
    }
   ],
   "source": [
    "print_score(random_forest ,X_train,y_train,X_test,y_test, train = True)\n",
    "print_score(random_forest ,X_train,y_train,X_test,y_test, train = False)"
   ]
  },
  {
   "cell_type": "code",
   "execution_count": 20,
   "metadata": {},
   "outputs": [
    {
     "data": {
      "text/plain": [
       "GradientBoostingClassifier(criterion='friedman_mse', init=None,\n",
       "              learning_rate=0.1, loss='deviance', max_depth=10,\n",
       "              max_features=None, max_leaf_nodes=None,\n",
       "              min_impurity_decrease=0.0, min_impurity_split=None,\n",
       "              min_samples_leaf=1, min_samples_split=2,\n",
       "              min_weight_fraction_leaf=0.0, n_estimators=200,\n",
       "              presort='auto', random_state=42, subsample=1.0, verbose=0,\n",
       "              warm_start=False)"
      ]
     },
     "execution_count": 20,
     "metadata": {},
     "output_type": "execute_result"
    }
   ],
   "source": [
    "from sklearn.ensemble import GradientBoostingClassifier\n",
    "\n",
    "gb = GradientBoostingClassifier(max_depth=10, n_estimators=200, learning_rate=0.1, random_state=42)\n",
    "gb.fit(X_train, y_train)"
   ]
  },
  {
   "cell_type": "code",
   "execution_count": 21,
   "metadata": {},
   "outputs": [
    {
     "name": "stdout",
     "output_type": "stream",
     "text": [
      "Training result:\n",
      "\n",
      "Accuracy Score: 0.9993\n",
      "\n",
      "Classification Report:\n",
      "             precision    recall  f1-score   support\n",
      "\n",
      "          0       1.00      1.00      1.00       742\n",
      "          1       1.00      1.00      1.00      4389\n",
      "          2       1.00      1.00      1.00      3868\n",
      "\n",
      "avg / total       1.00      1.00      1.00      8999\n",
      "\n",
      "\n",
      "Confusion Matrix:\n",
      "[[ 741    0    1]\n",
      " [   0 4388    1]\n",
      " [   0    4 3864]]\n",
      "\n",
      "Average Accuracy:\t0.5776\n",
      "\n",
      "Standard Deviation:\t0.0139\n",
      "Test result:\n",
      "\n",
      "Accuracy Score: 0.5957\n",
      "\n",
      "Classification Report:\n",
      "             precision    recall  f1-score   support\n",
      "\n",
      "          0       0.70      0.28      0.40       495\n",
      "          1       0.61      0.67      0.64      2927\n",
      "          2       0.57      0.57      0.57      2578\n",
      "\n",
      "avg / total       0.60      0.60      0.59      6000\n",
      "\n",
      "\n",
      "Confusion Matrix:\n",
      "[[ 138  202  155]\n",
      " [  22 1958  947]\n",
      " [  36 1064 1478]]\n",
      "\n"
     ]
    }
   ],
   "source": [
    "print_score(gb ,X_train,y_train,X_test,y_test, train = True)\n",
    "print_score(gb ,X_train,y_train,X_test,y_test, train = False)"
   ]
  },
  {
   "cell_type": "code",
   "execution_count": 22,
   "metadata": {},
   "outputs": [
    {
     "name": "stdout",
     "output_type": "stream",
     "text": [
      "Training result:\n",
      "\n",
      "Accuracy Score: 0.7450\n",
      "\n",
      "Classification Report:\n",
      "             precision    recall  f1-score   support\n",
      "\n",
      "          0       0.47      0.61      0.53       742\n",
      "          1       0.79      0.77      0.78      4389\n",
      "          2       0.77      0.74      0.75      3868\n",
      "\n",
      "avg / total       0.75      0.74      0.75      8999\n",
      "\n",
      "\n",
      "Confusion Matrix:\n",
      "[[ 456  154  132]\n",
      " [ 275 3386  728]\n",
      " [ 237  769 2862]]\n",
      "\n",
      "Average Accuracy:\t0.4918\n",
      "\n",
      "Standard Deviation:\t0.0154\n",
      "Test result:\n",
      "\n",
      "Accuracy Score: 0.4945\n",
      "\n",
      "Classification Report:\n",
      "             precision    recall  f1-score   support\n",
      "\n",
      "          0       0.18      0.25      0.21       495\n",
      "          1       0.56      0.56      0.56      2927\n",
      "          2       0.50      0.47      0.48      2578\n",
      "\n",
      "avg / total       0.50      0.49      0.50      6000\n",
      "\n",
      "\n",
      "Confusion Matrix:\n",
      "[[ 122  188  185]\n",
      " [ 280 1643 1004]\n",
      " [ 285 1091 1202]]\n",
      "\n"
     ]
    }
   ],
   "source": [
    "print_score(knn ,X_train,y_train,X_test,y_test, train = True)\n",
    "print_score(knn ,X_train,y_train,X_test,y_test, train = False)"
   ]
  },
  {
   "cell_type": "code",
   "execution_count": 23,
   "metadata": {},
   "outputs": [
    {
     "name": "stdout",
     "output_type": "stream",
     "text": [
      "Training result:\n",
      "\n",
      "Accuracy Score: 0.5016\n",
      "\n",
      "Classification Report:\n",
      "             precision    recall  f1-score   support\n",
      "\n",
      "          0       0.00      0.00      0.00       742\n",
      "          1       0.50      0.96      0.66      4389\n",
      "          2       0.52      0.08      0.13      3868\n",
      "\n",
      "avg / total       0.47      0.50      0.38      8999\n",
      "\n",
      "\n",
      "Confusion Matrix:\n",
      "[[   0  638  104]\n",
      " [   0 4223  166]\n",
      " [   0 3577  291]]\n",
      "\n",
      "Average Accuracy:\t0.5012\n",
      "\n",
      "Standard Deviation:\t0.0071\n",
      "Test result:\n",
      "\n",
      "Accuracy Score: 0.5103\n",
      "\n",
      "Classification Report:\n",
      "             precision    recall  f1-score   support\n",
      "\n",
      "          0       0.00      0.00      0.00       495\n",
      "          1       0.50      0.97      0.66      2927\n",
      "          2       0.59      0.09      0.15      2578\n",
      "\n",
      "avg / total       0.50      0.51      0.39      6000\n",
      "\n",
      "\n",
      "Confusion Matrix:\n",
      "[[   0  430   65]\n",
      " [   0 2842   85]\n",
      " [   0 2358  220]]\n",
      "\n"
     ]
    }
   ],
   "source": [
    "print_score(svm ,X_train,y_train,X_test,y_test, train = True)\n",
    "print_score(svm ,X_train,y_train,X_test,y_test, train = False)"
   ]
  },
  {
   "cell_type": "code",
   "execution_count": 24,
   "metadata": {},
   "outputs": [
    {
     "name": "stdout",
     "output_type": "stream",
     "text": [
      "Training result:\n",
      "\n",
      "Accuracy Score: 0.4897\n",
      "\n",
      "Classification Report:\n",
      "             precision    recall  f1-score   support\n",
      "\n",
      "          0       0.21      0.11      0.15       742\n",
      "          1       0.50      0.96      0.66      4389\n",
      "          2       0.55      0.03      0.06      3868\n",
      "\n",
      "avg / total       0.50      0.49      0.36      8999\n",
      "\n",
      "\n",
      "Confusion Matrix:\n",
      "[[  83  630   29]\n",
      " [ 116 4199   74]\n",
      " [ 196 3547  125]]\n",
      "\n",
      "Average Accuracy:\t0.4884\n",
      "\n",
      "Standard Deviation:\t0.0048\n",
      "Test result:\n",
      "\n",
      "Accuracy Score: 0.4970\n",
      "\n",
      "Classification Report:\n",
      "             precision    recall  f1-score   support\n",
      "\n",
      "          0       0.20      0.11      0.14       495\n",
      "          1       0.51      0.97      0.67      2927\n",
      "          2       0.69      0.04      0.07      2578\n",
      "\n",
      "avg / total       0.56      0.50      0.37      6000\n",
      "\n",
      "\n",
      "Confusion Matrix:\n",
      "[[  53  432   10]\n",
      " [  60 2834   33]\n",
      " [ 153 2330   95]]\n",
      "\n",
      "Training result:\n",
      "\n",
      "Accuracy Score: 0.4855\n",
      "\n",
      "Classification Report:\n",
      "             precision    recall  f1-score   support\n",
      "\n",
      "          0       0.00      0.00      0.00       742\n",
      "          1       0.58      0.35      0.43      4389\n",
      "          2       0.45      0.74      0.56      3868\n",
      "\n",
      "avg / total       0.47      0.49      0.45      8999\n",
      "\n",
      "\n",
      "Confusion Matrix:\n",
      "[[   0   98  644]\n",
      " [   0 1516 2873]\n",
      " [   0 1015 2853]]\n",
      "\n",
      "Average Accuracy:\t0.4816\n",
      "\n",
      "Standard Deviation:\t0.0111\n",
      "Test result:\n",
      "\n",
      "Accuracy Score: 0.4940\n",
      "\n",
      "Classification Report:\n",
      "             precision    recall  f1-score   support\n",
      "\n",
      "          0       0.00      0.00      0.00       495\n",
      "          1       0.59      0.35      0.44      2927\n",
      "          2       0.45      0.75      0.57      2578\n",
      "\n",
      "avg / total       0.48      0.49      0.46      6000\n",
      "\n",
      "\n",
      "Confusion Matrix:\n",
      "[[   0   72  423]\n",
      " [   0 1021 1906]\n",
      " [   0  635 1943]]\n",
      "\n",
      "Training result:\n",
      "\n",
      "Accuracy Score: 0.4937\n",
      "\n",
      "Classification Report:\n",
      "             precision    recall  f1-score   support\n",
      "\n",
      "          0       0.00      0.00      0.00       742\n",
      "          1       0.50      0.95      0.65      4389\n",
      "          2       0.47      0.08      0.13      3868\n",
      "\n",
      "avg / total       0.45      0.49      0.37      8999\n",
      "\n",
      "\n",
      "Confusion Matrix:\n",
      "[[   0  655   87]\n",
      " [   0 4149  240]\n",
      " [   0 3574  294]]\n",
      "\n",
      "Average Accuracy:\t0.4911\n",
      "\n",
      "Standard Deviation:\t0.0046\n",
      "Test result:\n",
      "\n",
      "Accuracy Score: 0.5008\n",
      "\n",
      "Classification Report:\n",
      "             precision    recall  f1-score   support\n",
      "\n",
      "          0       0.00      0.00      0.00       495\n",
      "          1       0.50      0.95      0.65      2927\n",
      "          2       0.52      0.09      0.15      2578\n",
      "\n",
      "avg / total       0.47      0.50      0.38      6000\n",
      "\n",
      "\n",
      "Confusion Matrix:\n",
      "[[   0  437   58]\n",
      " [   0 2785  142]\n",
      " [   0 2358  220]]\n",
      "\n"
     ]
    }
   ],
   "source": [
    "print_score(gnb ,X_train,y_train,X_test,y_test, train = True)\n",
    "print_score(gnb ,X_train,y_train,X_test,y_test, train = False)\n",
    "print_score(bnb ,X_train,y_train,X_test,y_test, train = True)\n",
    "print_score(bnb ,X_train,y_train,X_test,y_test, train = False)\n",
    "print_score(mnb ,X_train,y_train,X_test,y_test, train = True)\n",
    "print_score(mnb ,X_train,y_train,X_test,y_test, train = False)"
   ]
  },
  {
   "cell_type": "code",
   "execution_count": 25,
   "metadata": {},
   "outputs": [
    {
     "name": "stdout",
     "output_type": "stream",
     "text": [
      "Training result:\n",
      "\n",
      "Accuracy Score: 0.5028\n",
      "\n",
      "Classification Report:\n",
      "             precision    recall  f1-score   support\n",
      "\n",
      "          0       0.00      0.00      0.00       742\n",
      "          1       0.51      0.79      0.62      4389\n",
      "          2       0.47      0.27      0.35      3868\n",
      "\n",
      "avg / total       0.45      0.50      0.45      8999\n",
      "\n",
      "\n",
      "Confusion Matrix:\n",
      "[[   0  472  270]\n",
      " [   0 3467  922]\n",
      " [   0 2810 1058]]\n",
      "\n",
      "Average Accuracy:\t0.4969\n",
      "\n",
      "Standard Deviation:\t0.0109\n",
      "Test result:\n",
      "\n",
      "Accuracy Score: 0.5045\n",
      "\n",
      "Classification Report:\n",
      "             precision    recall  f1-score   support\n",
      "\n",
      "          0       0.00      0.00      0.00       495\n",
      "          1       0.51      0.79      0.62      2927\n",
      "          2       0.48      0.28      0.35      2578\n",
      "\n",
      "avg / total       0.46      0.50      0.45      6000\n",
      "\n",
      "\n",
      "Confusion Matrix:\n",
      "[[   0  322  173]\n",
      " [   0 2307  620]\n",
      " [   0 1858  720]]\n",
      "\n"
     ]
    }
   ],
   "source": [
    "print_score(logreg ,X_train,y_train,X_test,y_test, train = True)\n",
    "print_score(logreg ,X_train,y_train,X_test,y_test, train = False)"
   ]
  },
  {
   "cell_type": "code",
   "execution_count": 26,
   "metadata": {},
   "outputs": [
    {
     "name": "stdout",
     "output_type": "stream",
     "text": [
      "Training result:\n",
      "\n",
      "Accuracy Score: 0.9993\n",
      "\n",
      "Classification Report:\n",
      "             precision    recall  f1-score   support\n",
      "\n",
      "          0       1.00      1.00      1.00       742\n",
      "          1       1.00      1.00      1.00      4389\n",
      "          2       1.00      1.00      1.00      3868\n",
      "\n",
      "avg / total       1.00      1.00      1.00      8999\n",
      "\n",
      "\n",
      "Confusion Matrix:\n",
      "[[ 741    0    1]\n",
      " [   0 4389    0]\n",
      " [   0    5 3863]]\n",
      "\n",
      "Average Accuracy:\t0.5537\n",
      "\n",
      "Standard Deviation:\t0.0134\n",
      "Test result:\n",
      "\n",
      "Accuracy Score: 0.5622\n",
      "\n",
      "Classification Report:\n",
      "             precision    recall  f1-score   support\n",
      "\n",
      "          0       0.29      0.34      0.31       495\n",
      "          1       0.61      0.61      0.61      2927\n",
      "          2       0.57      0.55      0.56      2578\n",
      "\n",
      "avg / total       0.57      0.56      0.56      6000\n",
      "\n",
      "\n",
      "Confusion Matrix:\n",
      "[[ 166  173  156]\n",
      " [ 207 1785  935]\n",
      " [ 190  966 1422]]\n",
      "\n"
     ]
    },
    {
     "data": {
      "text/plain": [
       "(6309, 33)"
      ]
     },
     "execution_count": 26,
     "metadata": {},
     "output_type": "execute_result"
    }
   ],
   "source": [
    "print_score(dt ,X_train,y_train,X_test,y_test, train = True)\n",
    "print_score(dt ,X_train,y_train,X_test,y_test, train = False)\n",
    "dt.tree_.node_count, dt.tree_.max_depth"
   ]
  },
  {
   "cell_type": "code",
   "execution_count": 21,
   "metadata": {},
   "outputs": [
    {
     "data": {
      "image/png": "[encoded data removed]",
      "text/plain": [
       "<Figure size 432x288 with 1 Axes>"
      ]
     },
     "metadata": {
      "needs_background": "light"
     },
     "output_type": "display_data"
    },
    {
     "data": {
      "text/plain": [
       "[0.5777777777777777,\n",
       " 0.5764444444444444,\n",
       " 0.5873333333333334,\n",
       " 0.5931111111111111,\n",
       " 0.5942222222222222,\n",
       " 0.5928888888888889,\n",
       " 0.5975555555555555,\n",
       " 0.604,\n",
       " 0.6033333333333334,\n",
       " 0.6037777777777777,\n",
       " 0.6042222222222222,\n",
       " 0.6006666666666667,\n",
       " 0.6031111111111112,\n",
       " 0.6022222222222222,\n",
       " 0.6015555555555555,\n",
       " 0.6015555555555555,\n",
       " 0.6015555555555555,\n",
       " 0.6026666666666667,\n",
       " 0.6026666666666667,\n",
       " 0.6022222222222222,\n",
       " 0.6044444444444445,\n",
       " 0.604,\n",
       " 0.6051111111111112,\n",
       " 0.61,\n",
       " 0.6077777777777778,\n",
       " 0.6077777777777778,\n",
       " 0.6064444444444445,\n",
       " 0.6071111111111112,\n",
       " 0.6097777777777778,\n",
       " 0.6093333333333333,\n",
       " 0.608,\n",
       " 0.6108888888888889,\n",
       " 0.6113333333333333,\n",
       " 0.6108888888888889,\n",
       " 0.6077777777777778,\n",
       " 0.6077777777777778,\n",
       " 0.6055555555555555,\n",
       " 0.6073333333333333,\n",
       " 0.6091111111111112,\n",
       " 0.6102222222222222,\n",
       " 0.6133333333333333,\n",
       " 0.6117777777777778,\n",
       " 0.6115555555555555,\n",
       " 0.6106666666666667,\n",
       " 0.6093333333333333,\n",
       " 0.6097777777777778,\n",
       " 0.6115555555555555,\n",
       " 0.6097777777777778,\n",
       " 0.612]"
      ]
     },
     "execution_count": 21,
     "metadata": {},
     "output_type": "execute_result"
    }
   ],
   "source": [
    "k_range = list(range(1,50))\n",
    "scores = []\n",
    "for k in k_range:\n",
    "    knn = KNeighborsClassifier(n_neighbors=k, weights = 'distance', p =1)\n",
    "    knn.fit(X_train, y_train)\n",
    "    y_pred = knn.predict(X_test)\n",
    "    scores.append(accuracy_score(y_test, y_pred))\n",
    "    \n",
    "plt.plot(k_range, scores)\n",
    "plt.xlabel('Value of k for KNN')\n",
    "plt.ylabel('Accuracy Score')\n",
    "plt.title('Accuracy Scores for Values of k of k-Nearest-Neighbors')\n",
    "plt.show()\n",
    "scores"
   ]
  },
  {
   "cell_type": "code",
   "execution_count": null,
   "metadata": {},
   "outputs": [],
   "source": []
  },
  {
   "cell_type": "code",
   "execution_count": 14,
   "metadata": {},
   "outputs": [
    {
     "name": "stdout",
     "output_type": "stream",
     "text": [
      "Training result:\n",
      "\n",
      "Accuracy Score: 0.9970\n",
      "\n",
      "Classification Report:\n",
      "              precision    recall  f1-score   support\n",
      "\n",
      "           0       1.00      1.00      1.00       495\n",
      "           1       1.00      1.00      1.00      2926\n",
      "           2       1.00      0.99      1.00      2578\n",
      "\n",
      "   micro avg       1.00      1.00      1.00      5999\n",
      "   macro avg       1.00      1.00      1.00      5999\n",
      "weighted avg       1.00      1.00      1.00      5999\n",
      "\n",
      "\n",
      "Confusion Matrix:\n",
      "[[ 493    1    1]\n",
      " [   0 2924    2]\n",
      " [   2   12 2564]]\n",
      "\n",
      "Test result:\n",
      "\n",
      "Accuracy Score: 0.5751\n",
      "\n",
      "Classification Report:\n",
      "              precision    recall  f1-score   support\n",
      "\n",
      "           0       0.98      0.16      0.28       742\n",
      "           1       0.56      0.83      0.67      4390\n",
      "           2       0.61      0.37      0.46      3868\n",
      "\n",
      "   micro avg       0.58      0.58      0.58      9000\n",
      "   macro avg       0.71      0.45      0.47      9000\n",
      "weighted avg       0.61      0.58      0.54      9000\n",
      "\n",
      "\n",
      "Confusion Matrix:\n",
      "[[ 121  446  175]\n",
      " [   2 3642  746]\n",
      " [   1 2454 1413]]\n",
      "\n"
     ]
    }
   ],
   "source": [
    "from sklearn.neighbors import KNeighborsClassifier\n",
    "\n",
    "knn = KNeighborsClassifier(n_neighbors=2500, weights='distance',leaf_size=100, algorithm='kd_tree',n_jobs=4)\n",
    "\n",
    "knn = knn.fit(X_train, y_train)\n",
    "\n",
    "\n",
    "\n",
    "print_score(knn ,X_train,y_train,X_test,y_test, train = True)\n",
    "print_score(knn ,X_train,y_train,X_test,y_test, train = False)"
   ]
  },
  {
   "cell_type": "code",
   "execution_count": null,
   "metadata": {},
   "outputs": [],
   "source": []
  }
 ],
 "metadata": {
  "kernelspec": {
   "display_name": "Python 3",
   "language": "python",
   "name": "python3"
  },
  "language_info": {
   "codemirror_mode": {
    "name": "ipython",
    "version": 3
   },
   "file_extension": ".py",
   "mimetype": "text/x-python",
   "name": "python",
   "nbconvert_exporter": "python",
   "pygments_lexer": "ipython3",
   "version": "3.7.1"
  }
 },
 "nbformat": 4,
 "nbformat_minor": 2
}
